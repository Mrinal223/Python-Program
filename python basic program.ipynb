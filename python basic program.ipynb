{
 "cells": [
  {
   "cell_type": "markdown",
   "id": "4db38a80",
   "metadata": {},
   "source": [
    "first "
   ]
  },
  {
   "cell_type": "code",
   "execution_count": null,
   "id": "0fca9c45",
   "metadata": {},
   "outputs": [],
   "source": [
    "\n",
    "def calculate_year():\n",
    "    name = input(\"Enter your name: \")\n",
    "    age = int(input(\"Enter your age: \"))\n",
    "    height = float(input(\"Enter your height in meters: \"))\n",
    "    \n",
    "    year = 100 - age\n",
    "    \n",
    "    print(name, \"you will turn 100 in\", year, \"years.\")\n",
    "\n",
    "calculate_year()\n"
   ]
  },
  {
   "cell_type": "markdown",
   "id": "9d749638",
   "metadata": {},
   "source": [
    "Secand"
   ]
  },
  {
   "cell_type": "code",
   "execution_count": null,
   "id": "bcded26d",
   "metadata": {},
   "outputs": [],
   "source": [
    "def BMI():\n",
    "    weight = float(input(\"Enter the Weight: \"))\n",
    "    height = float(input(\"Enter the height: \"))\n",
    "    \n",
    "    bmi = weight/(height*height)\n",
    "    \n",
    "    print(\"Your body mass is \", bmi)\n",
    "    \n",
    "BMI()"
   ]
  },
  {
   "cell_type": "markdown",
   "id": "6472e62f",
   "metadata": {},
   "source": [
    "third"
   ]
  },
  {
   "cell_type": "code",
   "execution_count": null,
   "id": "2e6d3ef0",
   "metadata": {},
   "outputs": [],
   "source": [
    "def swap():\n",
    "    a = int(input(\"Enter the value of a: \"))\n",
    "    b = int(input(\"Enter the value of b: \"))\n",
    "    \n",
    "    a, b = b, a\n",
    "\n",
    "    print(\"After swapping: a = %d and b = %d\" % (a, b))\n",
    "\n",
    "swap()\n"
   ]
  },
  {
   "cell_type": "markdown",
   "id": "61a0c89f",
   "metadata": {},
   "source": [
    "fourth"
   ]
  },
  {
   "cell_type": "code",
   "execution_count": 6,
   "id": "768fd5d0",
   "metadata": {},
   "outputs": [
    {
     "name": "stdout",
     "output_type": "stream",
     "text": [
      "enter the wordmnisnhd\n",
      "number of vovals : 1\n",
      "number of conso :  6\n"
     ]
    }
   ],
   "source": [
    "def Alfa():\n",
    "    word =input(\"enter the word\")\n",
    "    CV=0\n",
    "    CC=0\n",
    "    for i in word:\n",
    "        if(i == \"a\" or i == \"i\"or i == \"o\" or i== \"u\" or i==\"e\" or i == \"A\" or i == \"I\"or i == \"O\" or i== \"U\" or i==\"E\"):\n",
    "            CV+=1\n",
    "        else:\n",
    "            CC+=1\n",
    "    print(\"number of vovals :\", CV)\n",
    "    print(\"number of conso : \" ,CC)\n",
    "            \n",
    "\n",
    "Alfa()\n",
    "\n",
    "    "
   ]
  },
  {
   "cell_type": "markdown",
   "id": "eaa8ba1f",
   "metadata": {},
   "source": [
    "Fifth"
   ]
  },
  {
   "cell_type": "code",
   "execution_count": null,
   "id": "f0778dc2",
   "metadata": {},
   "outputs": [
    {
     "name": "stdout",
     "output_type": "stream",
     "text": [
      "enter a number between 1-100 :7\n",
      "enter large number :\n",
      "enter a number between 1-100 :11\n",
      "enter large number :\n",
      "enter a number between 1-100 :24\n",
      "enter small number :\n",
      "enter a number between 1-100 :23\n",
      "enter small number :\n",
      "enter a number between 1-100 :22\n",
      "enter small number :\n"
     ]
    }
   ],
   "source": [
    "import random\n",
    "\n",
    "i=random.randrange(1,51)\n",
    "while(True):\n",
    "    n=int(input(\"enter a number between 1-100 :\"))\n",
    "    if(i==n):\n",
    "        print(\"win.........\")\n",
    "        break\n",
    "    elif(n>i):\n",
    "        print(\"enter small number :\")\n",
    "    else:\n",
    "        print(\"enter large number :\")\n",
    "       "
   ]
  },
  {
   "cell_type": "markdown",
   "id": "75ba09bb",
   "metadata": {},
   "source": [
    "Sixth"
   ]
  },
  {
   "cell_type": "code",
   "execution_count": 1,
   "id": "ed108904",
   "metadata": {},
   "outputs": [
    {
     "name": "stdout",
     "output_type": "stream",
     "text": [
      "2025-03-27 09:37:03.437030\n"
     ]
    }
   ],
   "source": [
    "import datetime\n",
    "t=datetime.datetime.now()\n",
    "\n",
    "print(t)"
   ]
  },
  {
   "cell_type": "markdown",
   "id": "64a4ff9d",
   "metadata": {},
   "source": [
    "Seventh"
   ]
  },
  {
   "cell_type": "code",
   "execution_count": 4,
   "id": "ef5dea5f",
   "metadata": {},
   "outputs": [
    {
     "name": "stdout",
     "output_type": "stream",
     "text": [
      "Enter your age : 23\n",
      "u r eligible ....\n"
     ]
    }
   ],
   "source": [
    "def Eligible():\n",
    "    age =int((input(\"Enter your age : \")))\n",
    "    if (age >=18):\n",
    "             if(age <=25):\n",
    "                 print(\"u r eligible ....\")\n",
    "    else:\n",
    "        print(\"not eligible....\")\n",
    "\n",
    "             \n",
    "             \n",
    "Eligible()"
   ]
  },
  {
   "cell_type": "markdown",
   "id": "0573d041",
   "metadata": {},
   "source": [
    "Eigth"
   ]
  },
  {
   "cell_type": "code",
   "execution_count": 6,
   "id": "715a28e2",
   "metadata": {},
   "outputs": [
    {
     "name": "stdout",
     "output_type": "stream",
     "text": [
      "Enter your age : 6\n",
      "Divisible by 3 only\n"
     ]
    }
   ],
   "source": [
    "def Check():\n",
    "    number =int((input(\"Enter your number : \")))\n",
    "    if(number%3 ==0 and number%5 == 0):\n",
    "        print(\"Divisible by both 3 and 5 \")\n",
    "    elif(number%3 ==0):\n",
    "        print(\"Divisible by 3 only\")\n",
    "    elif(number%5==0):\n",
    "        print(\"Divisible by 3 only\")\n",
    "            \n",
    "\n",
    "Check()\n",
    "    "
   ]
  },
  {
   "cell_type": "markdown",
   "id": "f84ee693",
   "metadata": {},
   "source": [
    "Nineth"
   ]
  },
  {
   "cell_type": "code",
   "execution_count": 9,
   "id": "f4141a84",
   "metadata": {},
   "outputs": [
    {
     "name": "stdout",
     "output_type": "stream",
     "text": [
      "1 * 1  :  1\n",
      "1 * 2  :  2\n",
      "1 * 3  :  3\n",
      "1 * 4  :  4\n",
      "1 * 5  :  5\n",
      "1 * 6  :  6\n",
      "1 * 7  :  7\n",
      "1 * 8  :  8\n",
      "1 * 9  :  9\n",
      "1 * 10  :  10\n",
      "...............\n",
      "2 * 1  :  2\n",
      "2 * 2  :  4\n",
      "2 * 3  :  6\n",
      "2 * 4  :  8\n",
      "2 * 5  :  10\n",
      "2 * 6  :  12\n",
      "2 * 7  :  14\n",
      "2 * 8  :  16\n",
      "2 * 9  :  18\n",
      "2 * 10  :  20\n",
      "...............\n",
      "3 * 1  :  3\n",
      "3 * 2  :  6\n",
      "3 * 3  :  9\n",
      "3 * 4  :  12\n",
      "3 * 5  :  15\n",
      "3 * 6  :  18\n",
      "3 * 7  :  21\n",
      "3 * 8  :  24\n",
      "3 * 9  :  27\n",
      "3 * 10  :  30\n",
      "...............\n",
      "4 * 1  :  4\n",
      "4 * 2  :  8\n",
      "4 * 3  :  12\n",
      "4 * 4  :  16\n",
      "4 * 5  :  20\n",
      "4 * 6  :  24\n",
      "4 * 7  :  28\n",
      "4 * 8  :  32\n",
      "4 * 9  :  36\n",
      "4 * 10  :  40\n",
      "...............\n",
      "5 * 1  :  5\n",
      "5 * 2  :  10\n",
      "5 * 3  :  15\n",
      "5 * 4  :  20\n",
      "5 * 5  :  25\n",
      "5 * 6  :  30\n",
      "5 * 7  :  35\n",
      "5 * 8  :  40\n",
      "5 * 9  :  45\n",
      "5 * 10  :  50\n",
      "...............\n",
      "6 * 1  :  6\n",
      "6 * 2  :  12\n",
      "6 * 3  :  18\n",
      "6 * 4  :  24\n",
      "6 * 5  :  30\n",
      "6 * 6  :  36\n",
      "6 * 7  :  42\n",
      "6 * 8  :  48\n",
      "6 * 9  :  54\n",
      "6 * 10  :  60\n",
      "...............\n",
      "7 * 1  :  7\n",
      "7 * 2  :  14\n",
      "7 * 3  :  21\n",
      "7 * 4  :  28\n",
      "7 * 5  :  35\n",
      "7 * 6  :  42\n",
      "7 * 7  :  49\n",
      "7 * 8  :  56\n",
      "7 * 9  :  63\n",
      "7 * 10  :  70\n",
      "...............\n",
      "8 * 1  :  8\n",
      "8 * 2  :  16\n",
      "8 * 3  :  24\n",
      "8 * 4  :  32\n",
      "8 * 5  :  40\n",
      "8 * 6  :  48\n",
      "8 * 7  :  56\n",
      "8 * 8  :  64\n",
      "8 * 9  :  72\n",
      "8 * 10  :  80\n",
      "...............\n",
      "9 * 1  :  9\n",
      "9 * 2  :  18\n",
      "9 * 3  :  27\n",
      "9 * 4  :  36\n",
      "9 * 5  :  45\n",
      "9 * 6  :  54\n",
      "9 * 7  :  63\n",
      "9 * 8  :  72\n",
      "9 * 9  :  81\n",
      "9 * 10  :  90\n",
      "...............\n",
      "10 * 1  :  10\n",
      "10 * 2  :  20\n",
      "10 * 3  :  30\n",
      "10 * 4  :  40\n",
      "10 * 5  :  50\n",
      "10 * 6  :  60\n",
      "10 * 7  :  70\n",
      "10 * 8  :  80\n",
      "10 * 9  :  90\n",
      "10 * 10  :  100\n",
      "...............\n"
     ]
    }
   ],
   "source": [
    "def printtable(n):\n",
    "    \n",
    "    for i in range(1,n+1):\n",
    "        for j in range(1,n+1):\n",
    "            print(i,\"*\",j,\" : \",i*j)\n",
    "        print(\"...............\")\n",
    "        \n",
    "    \n",
    "    \n",
    "printtable(10)"
   ]
  },
  {
   "cell_type": "markdown",
   "id": "d6a9c7ba",
   "metadata": {},
   "source": [
    "Tenth"
   ]
  },
  {
   "cell_type": "code",
   "execution_count": 10,
   "id": "b659e65a",
   "metadata": {},
   "outputs": [
    {
     "name": "stdout",
     "output_type": "stream",
     "text": [
      "120\n"
     ]
    }
   ],
   "source": [
    "def fact(n):\n",
    "    facto=1\n",
    "    while(n!=0):\n",
    "        facto=facto*n\n",
    "        n-=1\n",
    "    print(facto)  \n",
    "        \n",
    "\n",
    "fact(5)"
   ]
  },
  {
   "cell_type": "markdown",
   "id": "b38a7d77",
   "metadata": {},
   "source": [
    "Eleventh"
   ]
  },
  {
   "cell_type": "code",
   "execution_count": 7,
   "id": "fbd9041c",
   "metadata": {},
   "outputs": [
    {
     "name": "stdout",
     "output_type": "stream",
     "text": [
      "1 2 3 4 5 7 9 11 13 17 19 23 25 29 31 37 41 43 47 49 53 59 61 67 71 73 79 83 89 97 "
     ]
    }
   ],
   "source": [
    "def prime():\n",
    "    \n",
    "\n",
    "    for i in range(1,101):\n",
    "        count=0\n",
    "    \n",
    "        for j in range(1,i):\n",
    "            if(i%j==0):\n",
    "                count+=1\n",
    "        if(count <=2):\n",
    "            print(i,end=\" \")\n",
    "    \n",
    "        \n",
    "    \n",
    "prime()   "
   ]
  },
  {
   "cell_type": "markdown",
   "id": "f36896fa",
   "metadata": {},
   "source": [
    "Twelth"
   ]
  },
  {
   "cell_type": "code",
   "execution_count": 9,
   "id": "bd3a9dc2",
   "metadata": {},
   "outputs": [
    {
     "name": "stdout",
     "output_type": "stream",
     "text": [
      "sum of n even number is :  6\n"
     ]
    }
   ],
   "source": [
    "def sumofeven(n):\n",
    "    sum=0\n",
    "    for i in range(1,n+1):\n",
    "        if(i % 2==0):\n",
    "            sum=sum+i\n",
    "    print(\"sum of n even number is : \" ,sum )\n",
    "            \n",
    "sumofeven(5)       "
   ]
  },
  {
   "cell_type": "markdown",
   "id": "831f160b",
   "metadata": {},
   "source": [
    "Thirteen"
   ]
  },
  {
   "cell_type": "code",
   "execution_count": 2,
   "id": "58402d6f",
   "metadata": {},
   "outputs": [
    {
     "name": "stdout",
     "output_type": "stream",
     "text": [
      "Enter passowrd5478\n",
      "Try Again\n",
      "Enter passowrd876543\n",
      "Try Again\n",
      "Enter passowrd234\n",
      "Try Again\n",
      "Enter passowrd65\n",
      "Try Again\n",
      "Enter passowrd3264374\n",
      "Try Again\n",
      "Enter passowrd12345\n",
      "Login successsfully\n"
     ]
    }
   ],
   "source": [
    "def password():\n",
    "    mypass=\"12345\"\n",
    "    while(True):\n",
    "        pw =input(\"Enter passowrd\")\n",
    "        if(mypass==pw):\n",
    "            print(\"Login successsfully\")\n",
    "            break\n",
    "            \n",
    "        else:\n",
    "            print(\"Try Again\")\n",
    "    \n",
    "password()\n",
    "    "
   ]
  },
  {
   "cell_type": "markdown",
   "id": "f59d7fe8",
   "metadata": {},
   "source": [
    "Fourteen"
   ]
  },
  {
   "cell_type": "code",
   "execution_count": 11,
   "id": "e23f0a5d",
   "metadata": {},
   "outputs": [
    {
     "name": "stdout",
     "output_type": "stream",
     "text": [
      "it's aperfect number :\n"
     ]
    }
   ],
   "source": [
    "def Perfect(n):\n",
    "    sum=0\n",
    "    for i in range(1,n):\n",
    "        if(n%i==0):\n",
    "            sum=sum+i\n",
    "    if(sum==n):\n",
    "        print(\"it's aperfect number :\")\n",
    "    else:\n",
    "        print(\"not a perfect number \")\n",
    "        \n",
    "Perfect(28)   "
   ]
  },
  {
   "cell_type": "markdown",
   "id": "70da9a0e",
   "metadata": {},
   "source": [
    "Fifthteen"
   ]
  },
  {
   "cell_type": "code",
   "execution_count": 14,
   "id": "b40fd6ec",
   "metadata": {},
   "outputs": [
    {
     "name": "stdout",
     "output_type": "stream",
     "text": [
      "1\n",
      "2\n",
      "3\n",
      "5\n",
      "6\n",
      "7\n",
      "9\n"
     ]
    }
   ],
   "source": [
    "def Skip():\n",
    "    for i in range(1,10):\n",
    "        if(i%4==0):\n",
    "            continue\n",
    "        print(i)\n",
    "        \n",
    "Skip()"
   ]
  },
  {
   "cell_type": "code",
   "execution_count": null,
   "id": "92d8a5ea",
   "metadata": {},
   "outputs": [],
   "source": []
  },
  {
   "cell_type": "markdown",
   "id": "ac9b03c2",
   "metadata": {},
   "source": [
    "Sixteen"
   ]
  },
  {
   "cell_type": "code",
   "execution_count": 16,
   "id": "485af1fc",
   "metadata": {},
   "outputs": [
    {
     "name": "stdout",
     "output_type": "stream",
     "text": [
      "Enter passowrd56789\n",
      "Enter passowrd-9\n",
      "negetive number entered .....oopsssss\n"
     ]
    }
   ],
   "source": [
    "def getneg():\n",
    "  \n",
    "    while(True):\n",
    "        number=int(input(\"Enter passowrd\"))\n",
    "        if(number <0):\n",
    "            print(\"negetive number entered .....oopsssss\")\n",
    "            break\n",
    "            \n",
    "       \n",
    "    \n",
    "    \n",
    "getneg()\n",
    "    "
   ]
  },
  {
   "cell_type": "markdown",
   "id": "49f74b13",
   "metadata": {},
   "source": [
    "eighteen"
   ]
  },
  {
   "cell_type": "code",
   "execution_count": 31,
   "id": "05257756",
   "metadata": {},
   "outputs": [
    {
     "name": "stdout",
     "output_type": "stream",
     "text": [
      "990\n"
     ]
    }
   ],
   "source": [
    "def sumofnum():\n",
    "    sum=0\n",
    "    for i in range(1,101):\n",
    "        \n",
    "        if(sum >1000):\n",
    "            sum=sum-n\n",
    "            break\n",
    "        else:\n",
    "            n=i\n",
    "            sum=sum+i\n",
    "    print(sum)\n",
    "\n",
    "sumofnum()"
   ]
  },
  {
   "cell_type": "markdown",
   "id": "1ab3c2a9",
   "metadata": {},
   "source": [
    "Nineteen"
   ]
  },
  {
   "cell_type": "code",
   "execution_count": 33,
   "id": "f100a4d2",
   "metadata": {},
   "outputs": [
    {
     "name": "stdout",
     "output_type": "stream",
     "text": [
      "1\n",
      "2\n",
      "3\n",
      "4\n",
      "6\n",
      "7\n",
      "8\n",
      "9\n",
      "10\n"
     ]
    }
   ],
   "source": [
    "def passby(n):\n",
    "    for i in range(1,11):\n",
    "        if(i==n):\n",
    "            pass\n",
    "        else:\n",
    "            print(i)\n",
    "        \n",
    "passby(5) \n",
    "    \n",
    "    \n",
    "    "
   ]
  },
  {
   "cell_type": "markdown",
   "id": "cad0af0f",
   "metadata": {},
   "source": [
    "Twenty"
   ]
  },
  {
   "cell_type": "code",
   "execution_count": 42,
   "id": "76d04883",
   "metadata": {},
   "outputs": [
    {
     "name": "stdout",
     "output_type": "stream",
     "text": [
      "567\n",
      "66\n",
      "76\n",
      "65\n",
      "67\n",
      "grade A\n"
     ]
    }
   ],
   "source": [
    "def Graed():\n",
    "    a=int(input())\n",
    "    b=int(input())\n",
    "    c=int(input())\n",
    "    d=int(input())\n",
    "    e=int(input())\n",
    "    sum=a+b+c+d+e\n",
    "    p=(sum*100)//500\n",
    "    \n",
    "    if p>=90:\n",
    "        print(\"grade A\")\n",
    "    elif p>=80:\n",
    "        print(\"Grade B\")\n",
    "    elif p>=70:\n",
    "        print(\"Grade c\")\n",
    "    elif p>=60:\n",
    "        print(\"Grade D\")\n",
    "    else:\n",
    "        print(\"Fail\")\n",
    "        \n",
    "Graed()"
   ]
  },
  {
   "cell_type": "markdown",
   "id": "19b34f2b",
   "metadata": {},
   "source": [
    "Twentyone"
   ]
  },
  {
   "cell_type": "code",
   "execution_count": null,
   "id": "3fed06fa",
   "metadata": {},
   "outputs": [],
   "source": [
    "import random\n",
    "\n",
    "rn = random.randint(1,50)\n",
    "while rn > 0 :\n",
    "        a = int(input(\"Guess a number between 1 to 50: \"))\n",
    "        if a < rn:\n",
    "            print(\"Too low / try again\")\n",
    "        elif a > rn:\n",
    "           print(\"Too high / try again \")\n",
    "        else:\n",
    "            print(\"you gussed right\")\n",
    "            break\n",
    "        "
   ]
  },
  {
   "cell_type": "markdown",
   "id": "cb15668e",
   "metadata": {},
   "source": [
    "Twentytwo"
   ]
  },
  {
   "cell_type": "code",
   "execution_count": null,
   "id": "0b00db72",
   "metadata": {},
   "outputs": [],
   "source": [
    "import random\n",
    "\n",
    "rn = random.randint(1,50)\n",
    "while rn > 0 :\n",
    "        a = int(input(\"Guess a number between 1 to 50: \"))\n",
    "        if a < rn:\n",
    "            print(\"Too low / try again\")\n",
    "        elif a > rn:\n",
    "           print(\"Too high / try again \")\n",
    "        else:\n",
    "            print(\"you gussed right\")\n",
    "            break\n",
    "        "
   ]
  },
  {
   "cell_type": "code",
   "execution_count": null,
   "id": "5346335d",
   "metadata": {},
   "outputs": [],
   "source": []
  }
 ],
 "metadata": {
  "kernelspec": {
   "display_name": "Python 3 (ipykernel)",
   "language": "python",
   "name": "python3"
  },
  "language_info": {
   "codemirror_mode": {
    "name": "ipython",
    "version": 3
   },
   "file_extension": ".py",
   "mimetype": "text/x-python",
   "name": "python",
   "nbconvert_exporter": "python",
   "pygments_lexer": "ipython3",
   "version": "3.10.12"
  }
 },
 "nbformat": 4,
 "nbformat_minor": 5
}
